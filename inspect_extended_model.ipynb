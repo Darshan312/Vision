{
 "cells": [
  {
   "cell_type": "code",
   "execution_count": null,
   "metadata": {
    "collapsed": true
   },
   "outputs": [],
   "source": [
    "from activity import ExtendedInferenceConfig\n",
    "from activity import ExtendedCocoDataset\n",
    "\n",
    "MODEL_DIR = \"logs\"\n",
    "COCO_DATASET_PATH = \"dataset/coco\"\n",
    "COCO_DATASET_YEAR = 2014\n",
    "\n",
    "config = ExtendedInferenceConfig()\n",
    "\n",
    "model = modellib.MaskRCNN(mode=\"inference\", config=config, model_dir=MODEL_DIR)\n",
    "model_path = model.find_last()[1]\n",
    "model.load_weights(model_path, by_name=True)\n",
    "\n",
    "dataset_val = ExtendedCocoDataset()\n",
    "dataset_val.load_coco(COCO_DATASET_PATH, \"minival\", year=COCO_DATASET_YEAR, class_names=common.coco_classes)\n",
    "dataset_val = "
   ]
  }
 ],
 "metadata": {
  "kernelspec": {
   "display_name": "Python 3",
   "language": "python",
   "name": "python3"
  },
  "language_info": {
   "codemirror_mode": {
    "name": "ipython",
    "version": 3
   },
   "file_extension": ".py",
   "mimetype": "text/x-python",
   "name": "python",
   "nbconvert_exporter": "python",
   "pygments_lexer": "ipython3",
   "version": "3.6.4"
  }
 },
 "nbformat": 4,
 "nbformat_minor": 2
}
